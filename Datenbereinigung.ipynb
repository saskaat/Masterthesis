import os
import csv

# Ordnerpfade
source_directory = r"C:\Users\TOS1SN\OneDrive - Bosch Group\MA-Thesis\CMP - Anlagen\src\set_files"
destination_directory = r"C:\Users\TOS1SN\OneDrive - Bosch Group\MA-Thesis\CMP - Anlagen\src\converted_csv"

# Zielordner erstellen
os.makedirs(destination_directory, exist_ok=True)

def convert_set_to_csv(set_file_path, csv_file_path):
   
    with open(set_file_path, 'r', encoding='utf-8') as set_file:
        with open(csv_file_path, 'w', newline='', encoding='utf-8') as csv_file:
            csv_writer = csv.writer(csv_file)
            table_started = False
            
            for line in set_file:
                # Tabelle beginnt bei der ersten Zeile mit "1-"
                if not table_started:
                    if line.strip().startswith("1-"):
                        table_started = True  # Markiere, dass die Tabelle beginnt
                
                if table_started:
                    # Entferne überflüssige Leerzeichen und splitte nach Kommas
                    cleaned_line = [col.strip() for col in line.split(',')]
                    csv_writer.writerow(cleaned_line)

# Alle .set-Dateien im Quellordner verarbeiten
for file_name in os.listdir(source_directory):
    if file_name.endswith('.set'):
        source_file_path = os.path.join(source_directory, file_name)
        destination_file_path = os.path.join(destination_directory, file_name.replace('.set', '.csv'))
        
        convert_set_to_csv(source_file_path, destination_file_path)
        print(f"Konvertiert: {source_file_path} -> {destination_file_path}")
