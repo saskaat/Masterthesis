import os
import pandas as pd
from sklearn.decomposition import PCA
from sklearn.preprocessing import StandardScaler
import matplotlib.pyplot as plt

# Pfad zu deinem Ordner mit CSV-Dateien
path = r"C:\Users\TOS1SN\OneDrive - Bosch Group\MA-Thesis\CMP - Anlagen\src\converted_csv"

# Funktion, um alle CSV-Dateien aus dem Ordner einzulesen
def load_csv_files(folder_path):
    dataframes = []
    for file in os.listdir(folder_path):
        if file.endswith('.csv'):
            file_path = os.path.join(folder_path, file)
            try:
                df = pd.read_csv(file_path)
                dataframes.append(df)
            except Exception as e:
                print(f"Fehler beim Laden von {file}: {e}")
    return pd.concat(dataframes, ignore_index=True)

# Alle CSV-Dateien einlesen
try:
    data = load_csv_files(path)
except Exception as e:
    print(f"Fehler beim Zusammenführen der Daten: {e}")

# NaN-Werte entfernen
data = data.dropna()
print(f"Shape der Daten nach Entfernen von NaN-Werten: {data.shape}")

# Nur numerische Spalten auswählen (PCA benötigt numerische Daten)
numeric_data = data.select_dtypes(include=['float64', 'int64'])

# Daten standardisieren
scaler = StandardScaler()
scaled_data = scaler.fit_transform(numeric_data)

# PCA durchführen
n_components = 2  # Anzahl der Hauptkomponenten
pca = PCA(n_components=n_components)
pca_result = pca.fit_transform(scaled_data)

# Ergebnisse als DataFrame speichern
pca_df = pd.DataFrame(pca_result, columns=[f'PC{i+1}' for i in range(n_components)])
print(pca_df.head())

# Varianzanteil der Hauptkomponenten plotten
plt.figure(figsize=(8, 5))
plt.bar(range(1, n_components + 1), pca.explained_variance_ratio_, alpha=0.7, align='center')
plt.ylabel('Varianzanteil')
plt.xlabel('Hauptkomponenten')
plt.title('Varianzanteil der Hauptkomponenten')
plt.show()

# PCA-Ergebnisse visualisieren
plt.figure(figsize=(10, 8))
plt.scatter(pca_df['PC1'], pca_df['PC2'], alpha=0.5)
plt.title('PCA-Ergebnis: PC1 vs PC2')
plt.xlabel('PC1')
plt.ylabel('PC2')
plt.grid(True)
plt.show()
